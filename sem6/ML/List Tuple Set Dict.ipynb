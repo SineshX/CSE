{
 "cells": [
  {
   "cell_type": "markdown",
   "metadata": {},
   "source": [
    "### a) List : Represents sequential data that can be sorte,merge, etc.\n",
    "#### Mutable, Hetrogeneous."
   ]
  },
  {
   "cell_type": "code",
   "execution_count": 1,
   "metadata": {},
   "outputs": [
    {
     "name": "stdout",
     "output_type": "stream",
     "text": [
      "Given list :  ['Nina', 'Max', 'Rose', 'Jimmy', '1', 2, 40]\n",
      "Element at 3rd position:  Rose\n",
      "Reversed list :  ['Nina', 'Max', 'Rose', 'Jimmy', '1', 2, 40]\n",
      "Find Rose :  True\n"
     ]
    }
   ],
   "source": [
    "# it can store hetro items\n",
    "names= [\"Nina\", \"Max\", \"Rose\", \"Jimmy\" , \"1\" ,2 , 40]\n",
    "print(\"Given list : \",names)\n",
    "\n",
    "# access \n",
    "print(\"Element at 3rd position: \", names[2])\n",
    "\n",
    "# reverse\n",
    "rev_list = names[::-1] \n",
    "# or names.reverse() to alter same list\n",
    "print(\"Reversed list : \",names)\n",
    "\n",
    "# search\n",
    "print( \"Find Rose : \",\"Rose\" in names)  # True\n",
    "# or to count occurance lst.count('Rose')\n",
    "\n"
   ]
  },
  {
   "cell_type": "code",
   "execution_count": 2,
   "metadata": {},
   "outputs": [
    {
     "name": "stdout",
     "output_type": "stream",
     "text": [
      "Nina Max Rose Jimmy 1 2 40 \n",
      "Nina Rose 1 40 \n",
      "['Nina', 'Rose', '1', 40]\n"
     ]
    }
   ],
   "source": [
    "# loop \n",
    "for i in names:\n",
    "    print(i, end=\" \")\n",
    "print()\n",
    "\n",
    "# loop with skip some element \n",
    "for i in names[::2]:\n",
    "    print(i, end=\" \")\n",
    "print()\n",
    "\n",
    "# loop with neg index + skip\n",
    "print(names[-10::2])\n"
   ]
  },
  {
   "cell_type": "code",
   "execution_count": 3,
   "metadata": {},
   "outputs": [
    {
     "name": "stdout",
     "output_type": "stream",
     "text": [
      "['Nina', 'Max', 'Rose', 'Jimmy', '1', '2', '40']\n",
      "['Nina', 'Max', 'Rose', 'Jimmy', '1', '2', '40', 'ram', 'guru', 'mohan', 'sumit']\n",
      "['Gita', 'Nina', 'Max', 'Rose', 'Jimmy', '1', '2', '40', 'ram', 'guru', 'mohan', 'sumit']\n"
     ]
    }
   ],
   "source": [
    "my_list = [] # empty list\n",
    "#  append function\n",
    "for name in names:\n",
    "    my_list.append(str(name))\n",
    "print(my_list)\n",
    "\n",
    "#  extend function\n",
    "list7 = ['ram', 'guru', 'mohan', 'sumit']\n",
    "my_list.extend(list7) # expand the same list\n",
    "print(my_list) # can use lst1 + lst2 or use .append() \n",
    "# also use lst[] * 5 etc to replicate.\n",
    "\n",
    "# insert function \n",
    "my_list.insert(0, 'Gita' )\n",
    "print(my_list) # inserted at a given position"
   ]
  },
  {
   "cell_type": "code",
   "execution_count": 4,
   "metadata": {},
   "outputs": [
    {
     "name": "stdout",
     "output_type": "stream",
     "text": [
      "sumit\n",
      "['Gita', 'Max', 'Rose', 'Jimmy', '1', '2', '40', 'ram', 'guru', 'mohan']\n",
      "['Gita', 'Max', 'Jimmy', '1', '2', '40', 'ram', 'guru', 'mohan']\n"
     ]
    }
   ],
   "source": [
    "# pop function \n",
    "a = my_list.pop()\n",
    "print(a) # pop last element \n",
    "\n",
    "#  remove function \n",
    "my_list.remove('Nina')\n",
    "print(my_list) # search and remove element\n",
    "\n",
    "# del keyword\n",
    "del my_list[2]\n",
    "print(my_list) # delete element at 3rd position "
   ]
  },
  {
   "cell_type": "code",
   "execution_count": 5,
   "metadata": {},
   "outputs": [
    {
     "name": "stdout",
     "output_type": "stream",
     "text": [
      "[4, 3, 4, 5]\n"
     ]
    },
    {
     "data": {
      "text/plain": [
       "[4, 4]"
      ]
     },
     "execution_count": 5,
     "metadata": {},
     "output_type": "execute_result"
    }
   ],
   "source": [
    "# list comprehension \n",
    "names = [\"Nina\", \"Max\", \"Rose\", \"Jimmy\"]\n",
    "my_list1 = [len(name) for name in names]\n",
    "print(my_list1)\n",
    "\n",
    "# with condition\n",
    "my_list2 = [len(name) for name in names if len(name) % 2 == 0]\n",
    "my_list2"
   ]
  },
  {
   "cell_type": "code",
   "execution_count": 6,
   "metadata": {},
   "outputs": [
    {
     "name": "stdout",
     "output_type": "stream",
     "text": [
      "16\n",
      "5\n",
      "3\n",
      "[3, 4, 4, 5]\n",
      "3445\n"
     ]
    }
   ],
   "source": [
    "# sum \n",
    "print(sum(my_list1))\n",
    "#  max\n",
    "print(max(my_list1))\n",
    "# min\n",
    "print(min(my_list1))\n",
    "# sort \n",
    "my_list1.sort()\n",
    "# or  new_lst = sorted(names)\n",
    "print(my_list1)\n",
    "\n",
    "my_string = \"\".join([str(num) for num in my_list1])\n",
    "print(my_string) # to get the string as a whole"
   ]
  },
  {
   "cell_type": "markdown",
   "metadata": {},
   "source": [
    "### B) Tuple : A collection which is ordered and unchangeable.\n",
    "#### Non-Mutable, Hetrogeneous."
   ]
  },
  {
   "cell_type": "code",
   "execution_count": 7,
   "metadata": {},
   "outputs": [
    {
     "name": "stdout",
     "output_type": "stream",
     "text": [
      "Ram\n",
      "index of 21 is :  1\n",
      "[1, 2, 3, 4, 5]\n"
     ]
    }
   ],
   "source": [
    "mytuple = (\"Ram\", 21, True, 40, \"male\")\n",
    "tuple2 = tuple((1,2,3,4,5))\n",
    "# access : \n",
    "print(mytuple[0])\n",
    "\n",
    "# all list function of searching, slicing, looping, count(), can be used\n",
    "\n",
    "# get index of an element \n",
    "print('index of 21 is : ' , mytuple.index(21))\n",
    "# get sorted list from tuple\n",
    "new_tuple = sorted(tuple2)\n",
    "print(new_tuple)\n"
   ]
  },
  {
   "cell_type": "code",
   "execution_count": 8,
   "metadata": {},
   "outputs": [
    {
     "name": "stdout",
     "output_type": "stream",
     "text": [
      "('banana', 'cherry', 'orange')\n",
      "(1, 2, 3, 4, 5, 1, 2, 3, 4, 5, 1, 2, 3, 4, 5)\n"
     ]
    }
   ],
   "source": [
    "#  tuple modification with the help of list \n",
    "thistuple = (\"apple\", \"banana\", \"cherry\")\n",
    "y = list(thistuple)\n",
    "y.append(\"orange\")\n",
    "y.remove(\"apple\")\n",
    "print(tuple(y))\n",
    "\n",
    "#  can use + to add 2 tuple\n",
    "# use * ti get multi length tuple \n",
    "tuple3 = tuple2 * 3\n",
    "print(tuple3)\n"
   ]
  },
  {
   "cell_type": "code",
   "execution_count": 9,
   "metadata": {},
   "outputs": [
    {
     "data": {
      "text/plain": [
       "45"
      ]
     },
     "execution_count": 9,
     "metadata": {},
     "output_type": "execute_result"
    }
   ],
   "source": [
    "sum(tuple3)\n",
    "# sumilarly min, max could be found"
   ]
  },
  {
   "cell_type": "markdown",
   "metadata": {},
   "source": [
    "### C) Set : A collection which is unordered and unindexed.\n",
    "#### It is used for intersection,difference etc."
   ]
  },
  {
   "cell_type": "code",
   "execution_count": 10,
   "metadata": {},
   "outputs": [
    {
     "name": "stdout",
     "output_type": "stream",
     "text": [
      "{'banana', 'cherry', 'apple'}\n",
      "5\n"
     ]
    },
    {
     "data": {
      "text/plain": [
       "set"
      ]
     },
     "execution_count": 10,
     "metadata": {},
     "output_type": "execute_result"
    }
   ],
   "source": [
    "# declaration \n",
    "myset = {\"apple\", \"banana\", \"cherry\"}\n",
    "print(myset)\n",
    "#  duplicates not allowed \n",
    "# set constructor \n",
    "myset = set(tuple3) \n",
    "print(len(myset))\n",
    "\n",
    "# cannot change the items after the set has been created.\n",
    "# can be hetro \n",
    "set1 = {\"Ramayan\", 19, False , 0.43, \"A+\"}\n",
    "type(set1)\n"
   ]
  },
  {
   "cell_type": "markdown",
   "metadata": {},
   "source": [
    "### D) Dictionary : key value pair, ordered, changeable and does not allow duplicate.\n"
   ]
  },
  {
   "cell_type": "code",
   "execution_count": 11,
   "metadata": {},
   "outputs": [
    {
     "name": "stdout",
     "output_type": "stream",
     "text": [
      "John\n",
      "John\n",
      "16\n",
      "[7, 5, 6]\n",
      "{'age': 16, 'x': 'Sinesh', 'lastName': 'Smith', 225: [7, 5, 6]}\n",
      "{}\n"
     ]
    }
   ],
   "source": [
    "# Create a dict object\n",
    "student = {'firstName': 'John', 'age': 15}\n",
    "st = {\n",
    "    '1' : 'a_val'\n",
    "}\n",
    "# Access the value using the key\n",
    "print(student['firstName'])\n",
    "\n",
    "name = 'firstName'\n",
    "\n",
    "print(student[name])\n",
    "\n",
    "# Update the value for a particular key\n",
    "student['age'] = 16\n",
    "print(student['age'])\n",
    "\n",
    "# Insert a new key-value pair\n",
    "student['x'] = 'Sinesh'\n",
    "\n",
    "student['lastName'] = 'Smith'\n",
    "\n",
    "student[225] = [7,5,6]\n",
    "print(student[225])\n",
    "\n",
    "# Delete a key-value pair\n",
    "del student['firstName']\n",
    "print(student)\n",
    "\n",
    "# Remove all items\n",
    "student.clear()\n",
    "print(student)"
   ]
  },
  {
   "cell_type": "code",
   "execution_count": 12,
   "metadata": {},
   "outputs": [
    {
     "data": {
      "text/plain": [
       "{'a': 0, 'b': 1, 'c': 2}"
      ]
     },
     "execution_count": 12,
     "metadata": {},
     "output_type": "execute_result"
    }
   ],
   "source": [
    "# Create a dict object from two iterables\n",
    "dict_keys = [\"a\", \"b\", \"c\"]\n",
    "dict_values = [0, 1, 2]\n",
    "\n",
    "dict_zipped = dict(zip(dict_keys, dict_values))\n",
    "dict_zipped"
   ]
  },
  {
   "cell_type": "code",
   "execution_count": 13,
   "metadata": {},
   "outputs": [
    {
     "data": {
      "text/plain": [
       "{0: 0, 1: 1, 2: 4, 3: 9, 4: 16}"
      ]
     },
     "execution_count": 13,
     "metadata": {},
     "output_type": "execute_result"
    }
   ],
   "source": [
    "# Use dictionary comprehension\n",
    "squares = {x: x*x for x in range(5)}\n",
    "# squares = dict(x: x*x for x in range(5))\n",
    "\n",
    "squares"
   ]
  },
  {
   "cell_type": "code",
   "execution_count": 14,
   "metadata": {},
   "outputs": [
    {
     "name": "stdout",
     "output_type": "stream",
     "text": [
      "73802\n"
     ]
    },
    {
     "data": {
      "text/plain": [
       "999"
      ]
     },
     "execution_count": 14,
     "metadata": {},
     "output_type": "execute_result"
    }
   ],
   "source": [
    "# Use the get() method\n",
    "student = {\"name\": \"John\", \"student_id\": 73802}\n",
    "student_id = student.get(\"student_id\", -1) # if not exist then return -1\n",
    "print(student_id)\n",
    "\n",
    "grade = student.get(\"grade\", 999)\n",
    "grade"
   ]
  },
  {
   "cell_type": "code",
   "execution_count": 15,
   "metadata": {},
   "outputs": [
    {
     "name": "stdout",
     "output_type": "stream",
     "text": [
      "John\n",
      "73802\n",
      "name::John\n",
      "student_id::73802\n"
     ]
    }
   ],
   "source": [
    "# Iteration over the values\n",
    "# key_list = student.keys()\n",
    "# val_list = student.values()\n",
    "\n",
    "for item in student.values():\n",
    "    print(item)\n",
    "# also \n",
    "for key, value in student.items():\n",
    "    print(f\"{key}::{value}\")"
   ]
  },
  {
   "cell_type": "code",
   "execution_count": 16,
   "metadata": {},
   "outputs": [
    {
     "data": {
      "text/plain": [
       "{'a': 0, 'b': 2, 'c': 3}"
      ]
     },
     "execution_count": 16,
     "metadata": {},
     "output_type": "execute_result"
    }
   ],
   "source": [
    "# Merge dictionaries using update()\n",
    "d0 = {\"a\": 0, \"b\": 1}\n",
    "d1 = {\"b\": 2, \"c\": 3}\n",
    "d0.update(d1)\n",
    "d0"
   ]
  },
  {
   "cell_type": "code",
   "execution_count": 17,
   "metadata": {},
   "outputs": [
    {
     "data": {
      "text/plain": [
       "{'a': 0, 'b': 1, 'c': 2}"
      ]
     },
     "execution_count": 17,
     "metadata": {},
     "output_type": "execute_result"
    }
   ],
   "source": [
    "# Create a dict object from tuples\n",
    "dict_tuples = dict(  [(\"a\", 0), (\"b\", 1), (\"c\", 2) ] )\n",
    "dict_tuples"
   ]
  }
 ],
 "metadata": {
  "interpreter": {
   "hash": "4893a8cd075cba1928e901ececc4d0ec8d7d8305af1299ccef23472a30489c91"
  },
  "kernelspec": {
   "display_name": "Python 3.9.10 64-bit (windows store)",
   "language": "python",
   "name": "python3"
  },
  "language_info": {
   "codemirror_mode": {
    "name": "ipython",
    "version": 3
   },
   "file_extension": ".py",
   "mimetype": "text/x-python",
   "name": "python",
   "nbconvert_exporter": "python",
   "pygments_lexer": "ipython3",
   "version": "3.9.12"
  },
  "orig_nbformat": 4
 },
 "nbformat": 4,
 "nbformat_minor": 2
}

{
 "cells": [
  {
   "cell_type": "markdown",
   "metadata": {},
   "source": [
    "### Numpy - Python library \n",
    "ndarray is 50x faster than list fro algebric operations. "
   ]
  },
  {
   "cell_type": "code",
   "execution_count": null,
   "metadata": {},
   "outputs": [
    {
     "name": "stdout",
     "output_type": "stream",
     "text": [
      "[1 2 3 4] <class 'numpy.ndarray'>\n",
      "[1, 2, 3, 4] <class 'list'>\n"
     ]
    }
   ],
   "source": [
    "import numpy as np\n",
    "lst1 = [1,2,3,4]\n",
    "\n",
    "# create numpy array, it is homogeneous\n",
    "np_arr = np.array(lst1)\n",
    "print(np_arr, type(np_arr))\n",
    "print(lst1, type(lst1))"
   ]
  },
  {
   "cell_type": "code",
   "execution_count": null,
   "metadata": {},
   "outputs": [
    {
     "name": "stdout",
     "output_type": "stream",
     "text": [
      "size : 4, Datatype : int32\n",
      "Shape : (4,), Dimention : 1\n"
     ]
    }
   ],
   "source": [
    "print(f'size : {np_arr.size}, Datatype : {np_arr.dtype}')\n",
    "print(f'Shape : {np_arr.shape}, Dimention : {np_arr.ndim}')"
   ]
  },
  {
   "cell_type": "code",
   "execution_count": null,
   "metadata": {},
   "outputs": [
    {
     "name": "stdout",
     "output_type": "stream",
     "text": [
      "[0 1 2 3 4]\n",
      "[0. 0. 0. 0. 0. 0.]\n",
      "[1. 1. 1. 1. 1. 1. 1.]\n"
     ]
    }
   ],
   "source": [
    "# generate sequence of num\n",
    "seq_arr = np.arange(5)\n",
    "# create seq of zeros \n",
    "z_arr = np.zeros(6)\n",
    "one_arr = np.ones(7)\n",
    "\n",
    "print(seq_arr, z_arr, one_arr, sep='\\n')"
   ]
  },
  {
   "cell_type": "code",
   "execution_count": null,
   "metadata": {},
   "outputs": [
    {
     "name": "stdout",
     "output_type": "stream",
     "text": [
      "[ 1  2  3  4 45]\n",
      "[1 2 3 4]\n",
      "[[1 2]\n",
      " [3 4]]\n"
     ]
    }
   ],
   "source": [
    "#append\n",
    "np_arr = np.append(np_arr, 45)\n",
    "print(np_arr)\n",
    "\n",
    "# delete at index \n",
    "np_arr1 = np.delete(np_arr, 4)\n",
    "print(np_arr1)\n",
    "\n",
    "# sort\n",
    "np_arr2 = np.sort(np_arr)\n",
    "\n",
    "# reshaping\n",
    "np_sh = np.reshape(np_arr1, (2,2))\n",
    "print(np_sh)"
   ]
  },
  {
   "cell_type": "code",
   "execution_count": null,
   "metadata": {},
   "outputs": [
    {
     "name": "stdout",
     "output_type": "stream",
     "text": [
      "[2 4]\n"
     ]
    }
   ],
   "source": [
    "# slicing\n",
    "#  np_arr[start,end, jump]\n",
    "print(np_arr[1:-1:2])\n",
    "# can use , in case of more than 1d array \n",
    "# eg np_arr[::1, 3:4:2]"
   ]
  }
 ],
 "metadata": {
  "language_info": {
   "name": "python"
  },
  "orig_nbformat": 4
 },
 "nbformat": 4,
 "nbformat_minor": 2
}

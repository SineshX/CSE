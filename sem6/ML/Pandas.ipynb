{
 "cells": [
  {
   "cell_type": "markdown",
   "metadata": {},
   "source": [
    "### Pandas - Python Library\n",
    "clean messy data set and make them readable.\n",
    " Python Data Analysis Library : Panel-data-s”\n",
    " Data types : Series, DataFrame, Panel"
   ]
  },
  {
   "cell_type": "code",
   "execution_count": null,
   "metadata": {},
   "outputs": [
    {
     "name": "stdout",
     "output_type": "stream",
     "text": [
      "0    a\n",
      "1    b\n",
      "2    c\n",
      "3    d\n",
      "dtype: object\n"
     ]
    }
   ],
   "source": [
    "import pandas as pd\n",
    "# series : array like structure, homogeneous, immutable sized.\n",
    "# pandas.Series(data=None , index=None , dtype=None,copy = false)\n",
    "import numpy as np\n",
    "data = np.array(['a','b','c','d'])\n",
    "p1 = pd.Series(data,index=[0,1,2,3])\n",
    "print(p1)"
   ]
  },
  {
   "cell_type": "code",
   "execution_count": null,
   "metadata": {},
   "outputs": [
    {
     "data": {
      "text/plain": [
       "a      ram\n",
       "b    shyam\n",
       "dtype: object"
      ]
     },
     "metadata": {},
     "output_type": "display_data"
    }
   ],
   "source": [
    "# series from Disctionary \n",
    "d1 = {'a' : 'ram', 'b': 'shyam'}\n",
    "p2 = pd.Series(d1)\n",
    "p2 # keys as index and val as data "
   ]
  },
  {
   "cell_type": "code",
   "execution_count": null,
   "metadata": {},
   "outputs": [
    {
     "data": {
      "text/plain": [
       "0    5\n",
       "1    5\n",
       "2    5\n",
       "3    5\n",
       "dtype: int64"
      ]
     },
     "metadata": {},
     "output_type": "display_data"
    }
   ],
   "source": [
    "# creating series from scalar \n",
    "s = pd.Series(5, index= [x for x in range (4)] )\n",
    "s"
   ]
  },
  {
   "cell_type": "code",
   "execution_count": null,
   "metadata": {},
   "outputs": [
    {
     "name": "stdout",
     "output_type": "stream",
     "text": [
      "     0\n",
      "0    1\n",
      "1    2\n",
      "2  ram\n"
     ]
    }
   ],
   "source": [
    "#  DateFrame: 2d array, hertogeneous,  size and value mutable\n",
    "\n",
    "# Creating DF from list : \n",
    "\n",
    "data = [1,2,'ram']\n",
    "df1 = pd.DataFrame(data)\n",
    "print(df1) # no way to remove index till now"
   ]
  },
  {
   "cell_type": "code",
   "execution_count": null,
   "metadata": {},
   "outputs": [
    {
     "name": "stdout",
     "output_type": "stream",
     "text": [
      "     Name  Age\n",
      "0    Alex   10\n",
      "1     Bob   12\n",
      "2  Clarke   13\n"
     ]
    }
   ],
   "source": [
    "data2 = [['Alex',10],['Bob',12],['Clarke',13]]\n",
    "# using cloums name :)\n",
    "df2 = pd.DataFrame(data2,columns=['Name','Age'])\n",
    "print(df2)"
   ]
  },
  {
   "cell_type": "code",
   "execution_count": null,
   "metadata": {},
   "outputs": [
    {
     "name": "stdout",
     "output_type": "stream",
     "text": [
      "    Name  Age\n",
      "0    Tom   28\n",
      "1   Jack   34\n",
      "2  Steve   29\n",
      "3  Ricky   42\n",
      "        Name  Age\n",
      "rank1    Tom   28\n",
      "rank2   Jack   34\n",
      "rank3  Steve   29\n",
      "rank4  Ricky   42\n"
     ]
    }
   ],
   "source": [
    "# creating DF using dictionary \n",
    "\n",
    "data3 ={'Name':['Tom', 'Jack', 'Steve', 'Ricky'],'Age':[28,34,29,42]}\n",
    "df3 = pd.DataFrame(data3)\n",
    "print (df3)\n",
    "# with custum index \n",
    "print(pd.DataFrame(data3, index = ['rank1','rank2','rank3','rank4']))\n"
   ]
  },
  {
   "cell_type": "code",
   "execution_count": null,
   "metadata": {},
   "outputs": [
    {
     "name": "stdout",
     "output_type": "stream",
     "text": [
      "   age  gcose\n",
      "0   43     99\n",
      "1   21     65\n",
      "2   25     79\n",
      "3   42     75\n",
      "4   57     87\n"
     ]
    }
   ],
   "source": [
    "# Reading CSV file \n",
    "\n",
    "df4 = pd.read_csv(\"data.csv\")\n",
    "print(df4.head())"
   ]
  },
  {
   "cell_type": "code",
   "execution_count": null,
   "metadata": {},
   "outputs": [],
   "source": [
    "# writing in xlsx \n",
    "df4.to_excel('xlsx_data.xlsx')"
   ]
  },
  {
   "cell_type": "code",
   "execution_count": null,
   "metadata": {},
   "outputs": [
    {
     "name": "stdout",
     "output_type": "stream",
     "text": [
      "(6, 2)\n",
      "2\n"
     ]
    }
   ],
   "source": [
    "# Get cols and rows \n",
    "print(df4.shape)\n",
    "\n",
    "# array dimention(no. of axis )\n",
    "print(df4.ndim)"
   ]
  },
  {
   "cell_type": "code",
   "execution_count": null,
   "metadata": {},
   "outputs": [
    {
     "name": "stdout",
     "output_type": "stream",
     "text": [
      "   age  gcose\n",
      "0   43     99\n",
      "1   21     65\n",
      "   age  gcose\n",
      "3   42     75\n",
      "4   57     87\n",
      "5   59     81\n"
     ]
    }
   ],
   "source": [
    "# .head() and .tail()\n",
    "#  to read first n line ; n = 2\n",
    "print(df4.head(2))\n",
    "\n",
    "# to read last n lines ; n =3 \n",
    "print(df4.tail(3))"
   ]
  },
  {
   "cell_type": "markdown",
   "metadata": {},
   "source": [
    "#### Pandas DataFrame.describe()\n",
    "\n",
    "The describe() method is used for calculating some statistical data like percentile, mean and std of the numerical values of the Series or DataFrame. It analyzes both numeric and object series and also the DataFrame column sets of mixed data types."
   ]
  },
  {
   "cell_type": "code",
   "execution_count": null,
   "metadata": {},
   "outputs": [
    {
     "data": {
      "text/html": [
       "<div>\n",
       "<style scoped>\n",
       "    .dataframe tbody tr th:only-of-type {\n",
       "        vertical-align: middle;\n",
       "    }\n",
       "\n",
       "    .dataframe tbody tr th {\n",
       "        vertical-align: top;\n",
       "    }\n",
       "\n",
       "    .dataframe thead th {\n",
       "        text-align: right;\n",
       "    }\n",
       "</style>\n",
       "<table border=\"1\" class=\"dataframe\">\n",
       "  <thead>\n",
       "    <tr style=\"text-align: right;\">\n",
       "      <th></th>\n",
       "      <th>age</th>\n",
       "      <th>gcose</th>\n",
       "    </tr>\n",
       "  </thead>\n",
       "  <tbody>\n",
       "    <tr>\n",
       "      <th>count</th>\n",
       "      <td>6.000000</td>\n",
       "      <td>6.000000</td>\n",
       "    </tr>\n",
       "    <tr>\n",
       "      <th>mean</th>\n",
       "      <td>41.166667</td>\n",
       "      <td>81.000000</td>\n",
       "    </tr>\n",
       "    <tr>\n",
       "      <th>std</th>\n",
       "      <td>15.753307</td>\n",
       "      <td>11.454257</td>\n",
       "    </tr>\n",
       "    <tr>\n",
       "      <th>min</th>\n",
       "      <td>21.000000</td>\n",
       "      <td>65.000000</td>\n",
       "    </tr>\n",
       "    <tr>\n",
       "      <th>25%</th>\n",
       "      <td>29.250000</td>\n",
       "      <td>76.000000</td>\n",
       "    </tr>\n",
       "    <tr>\n",
       "      <th>50%</th>\n",
       "      <td>42.500000</td>\n",
       "      <td>80.000000</td>\n",
       "    </tr>\n",
       "    <tr>\n",
       "      <th>75%</th>\n",
       "      <td>53.500000</td>\n",
       "      <td>85.500000</td>\n",
       "    </tr>\n",
       "    <tr>\n",
       "      <th>max</th>\n",
       "      <td>59.000000</td>\n",
       "      <td>99.000000</td>\n",
       "    </tr>\n",
       "  </tbody>\n",
       "</table>\n",
       "</div>"
      ],
      "text/plain": [
       "             age      gcose\n",
       "count   6.000000   6.000000\n",
       "mean   41.166667  81.000000\n",
       "std    15.753307  11.454257\n",
       "min    21.000000  65.000000\n",
       "25%    29.250000  76.000000\n",
       "50%    42.500000  80.000000\n",
       "75%    53.500000  85.500000\n",
       "max    59.000000  99.000000"
      ]
     },
     "metadata": {},
     "output_type": "display_data"
    }
   ],
   "source": [
    "# for all column\n",
    "df4.describe()"
   ]
  },
  {
   "cell_type": "code",
   "execution_count": null,
   "metadata": {},
   "outputs": [
    {
     "data": {
      "text/plain": [
       "count     6.000000\n",
       "mean     41.166667\n",
       "std      15.753307\n",
       "min      21.000000\n",
       "25%      29.250000\n",
       "50%      42.500000\n",
       "75%      53.500000\n",
       "max      59.000000\n",
       "Name: age, dtype: float64"
      ]
     },
     "metadata": {},
     "output_type": "display_data"
    }
   ],
   "source": [
    "# for one column \n",
    "df4['age'].describe()"
   ]
  },
  {
   "cell_type": "markdown",
   "metadata": {},
   "source": [
    "#### Selection of columns and rows in Pandas DataFrame\n",
    "a) df.column_name (Dot notation)"
   ]
  },
  {
   "cell_type": "code",
   "execution_count": null,
   "metadata": {},
   "outputs": [
    {
     "data": {
      "text/plain": [
       "0    43\n",
       "1    21\n",
       "2    25\n",
       "3    42\n",
       "4    57\n",
       "Name: age, dtype: int64"
      ]
     },
     "metadata": {},
     "output_type": "display_data"
    }
   ],
   "source": [
    "df4.age.head()"
   ]
  },
  {
   "cell_type": "code",
   "execution_count": null,
   "metadata": {},
   "outputs": [],
   "source": [
    "# "
   ]
  }
 ],
 "metadata": {
  "language_info": {
   "name": "python"
  },
  "orig_nbformat": 4
 },
 "nbformat": 4,
 "nbformat_minor": 2
}
